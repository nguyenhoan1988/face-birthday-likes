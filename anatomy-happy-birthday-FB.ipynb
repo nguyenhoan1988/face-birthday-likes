{
 "metadata": {
  "name": "",
  "signature": "sha256:9a6327168eb89e15658499f5d369b7abdf44947415d40d9c94562be11b819b07"
 },
 "nbformat": 3,
 "nbformat_minor": 0,
 "worksheets": [
  {
   "cells": [
    {
     "cell_type": "heading",
     "level": 1,
     "metadata": {},
     "source": [
      "Anatomy of Happy Birthday posts on Facebook"
     ]
    },
    {
     "cell_type": "markdown",
     "metadata": {},
     "source": [
      "Every year we receives many loving Happy Birthday posts from our family and friends. This year I like to crawl all these posts from Facebook and do some analysis. The language I use is **Python**, together with [**pandas**](http://pandas.pydata.org/) tool."
     ]
    },
    {
     "cell_type": "heading",
     "level": 2,
     "metadata": {},
     "source": [
      "1. Extracting posts from Facebook"
     ]
    },
    {
     "cell_type": "markdown",
     "metadata": {},
     "source": [
      "In order to extract data from Facebook, I use [**facepy**](http://facepy.readthedocs.org), a library from *Johannes Gorset* as a wrapper for Facebook API. Function `get_post` retrieves posts from Facebook timeline. My code to extract posts can be found [**here**](https://github.com/nguyenhoan1988/face-birthday-likes) "
     ]
    },
    {
     "cell_type": "code",
     "collapsed": true,
     "input": [
      "from datetime import datetime\n",
      "from facebook_HB_posts import get_post\n",
      "\n",
      "# get all posts from this date\n",
      "since_date = datetime(2014,11,10)\n",
      "\n",
      "posts = get_post(since_date)\n",
      "print 'Total posts retrieved: %d' % len(posts)"
     ],
     "language": "python",
     "metadata": {},
     "outputs": [
      {
       "output_type": "stream",
       "stream": "stdout",
       "text": [
        "Processing 25 posts\n",
        "Processing 25 posts"
       ]
      },
      {
       "output_type": "stream",
       "stream": "stdout",
       "text": [
        "\n",
        "Processing 25 posts"
       ]
      },
      {
       "output_type": "stream",
       "stream": "stdout",
       "text": [
        "\n",
        "Processing 19 posts"
       ]
      },
      {
       "output_type": "stream",
       "stream": "stdout",
       "text": [
        "\n",
        "Total posts retrieved: 83\n"
       ]
      }
     ],
     "prompt_number": 3
    },
    {
     "cell_type": "heading",
     "level": 2,
     "metadata": {},
     "source": [
      "2. Cleaning posts"
     ]
    },
    {
     "cell_type": "markdown",
     "metadata": {},
     "source": [
      "First, I convert the list of posts to a DataFrame, then filter only posts that come from other users other than me."
     ]
    },
    {
     "cell_type": "code",
     "collapsed": false,
     "input": [
      "import pandas as pd\n",
      "\n",
      "# convert to pandas DataFrame format\n",
      "df = pd.DataFrame(posts)\n",
      "df = df[df.user_name != 'Hoan Nguyen']\n",
      "print '%d posts left' % (len(df))"
     ],
     "language": "python",
     "metadata": {},
     "outputs": [
      {
       "output_type": "stream",
       "stream": "stdout",
       "text": [
        "82 posts left\n"
       ]
      }
     ],
     "prompt_number": 6
    },
    {
     "cell_type": "markdown",
     "metadata": {},
     "source": [
      "The field `application` needs to be transformed into `from_app` field. Then I use only some fields in this DataFrame."
     ]
    },
    {
     "cell_type": "code",
     "collapsed": false,
     "input": [
      "df['from_app'] = df.application.dropna().apply(lambda x: x['name'])\n",
      "df = df[[u'actions', u'application', u'comments', u'created_time', u'id', u'likes', u'message', u'updated_time', u'user_id', u'user_name', u'from_app']]"
     ],
     "language": "python",
     "metadata": {},
     "outputs": [],
     "prompt_number": 7
    },
    {
     "cell_type": "heading",
     "level": 2,
     "metadata": {},
     "source": [
      "3. Liking posts"
     ]
    },
    {
     "cell_type": "markdown",
     "metadata": {},
     "source": [
      "As I am very grateful, I do want to like all the warming posts from my family and friends. Thus, I use `like_post` to like them. (I do go through all those posts personally on Facebook.) From `actions` field, I extract the like action to be used in `like_post` function."
     ]
    },
    {
     "cell_type": "code",
     "collapsed": false,
     "input": [
      "from facebook_HB_posts import like_post\n",
      "\n",
      "df['like_action'] = df.actions.apply(lambda x: [each for each in x if each['name'] == 'Like'][0])\n",
      "df['like_success'] = df.apply(lambda x: like_post(x['id'], x['like_action']), axis=1)\n",
      "df.like_success.value_counts()"
     ],
     "language": "python",
     "metadata": {},
     "outputs": [
      {
       "metadata": {},
       "output_type": "pyout",
       "prompt_number": 8,
       "text": [
        "True    82\n",
        "dtype: int64"
       ]
      }
     ],
     "prompt_number": 8
    },
    {
     "cell_type": "heading",
     "level": 2,
     "metadata": {},
     "source": [
      "4. Let's do some analyses"
     ]
    },
    {
     "cell_type": "heading",
     "level": 3,
     "metadata": {},
     "source": [
      "a. What kind of device that people use to post?"
     ]
    },
    {
     "cell_type": "markdown",
     "metadata": {},
     "source": [
      "I use `from_app` field. Some posts don't have this information, therefore, I assume they have been posted from a browser. Most of them come from a browser, which shows that people will post a birthday congrats on their PC, with the help of facebok recommendation box ![Facebook Birthday box](birthday-box.png)."
     ]
    },
    {
     "cell_type": "code",
     "collapsed": false,
     "input": [
      "df.from_app = df.from_app.fillna('Browser')\n",
      "app_count = df.from_app.value_counts()\n",
      "print app_count\n",
      "\n",
      "axes(aspect=1)\n",
      "_ = pie(app_count, labels=app_count.index, autopct='%0.2f%%')"
     ],
     "language": "python",
     "metadata": {},
     "outputs": [
      {
       "output_type": "stream",
       "stream": "stdout",
       "text": [
        "Browser                     68\n",
        "Facebook for Android         6\n",
        "Facebook for iPhone          4\n",
        "Facebook for iPad            3\n",
        "Facebook for Every Phone     1\n",
        "dtype: int64\n"
       ]
      },
      {
       "metadata": {},
       "output_type": "display_data",
       "png": "[encoded data removed]",
       "text": [
        "<matplotlib.figure.Figure at 0x7f65b9025dd0>"
       ]
      }
     ],
     "prompt_number": 20
    },
    {
     "cell_type": "heading",
     "level": 3,
     "metadata": {},
     "source": [
      "b. Message analysis"
     ]
    },
    {
     "cell_type": "markdown",
     "metadata": {},
     "source": [
      "The stats of the messages are shown below:"
     ]
    },
    {
     "cell_type": "code",
     "collapsed": false,
     "input": [
      "print \"Posts' length in characters:\"\n",
      "df['length'] = df.message.str.len()\n",
      "df.length.hist(bins=df.length.max())\n",
      "df.length.describe()"
     ],
     "language": "python",
     "metadata": {},
     "outputs": [
      {
       "output_type": "stream",
       "stream": "stdout",
       "text": [
        "Posts' length in characters:\n"
       ]
      },
      {
       "metadata": {},
       "output_type": "pyout",
       "prompt_number": 7,
       "text": [
        "count     82.000000\n",
        "mean      32.865854\n",
        "std       21.058274\n",
        "min        4.000000\n",
        "25%       20.000000\n",
        "50%       26.500000\n",
        "75%       38.000000\n",
        "max      115.000000\n",
        "Name: length, dtype: float64"
       ]
      },
      {
       "metadata": {},
       "output_type": "display_data",
       "png": "[encoded data removed]",
       "text": [
        "<matplotlib.figure.Figure at 0x7ff066b57a50>"
       ]
      }
     ],
     "prompt_number": 7
    },
    {
     "cell_type": "code",
     "collapsed": false,
     "input": [
      "print \"Posts' length in words:\"\n",
      "df['length_words'] = df.message.apply(lambda x: len(x.split()))\n",
      "df.length_words.hist(bins=df.length_words.max())\n",
      "df.length_words.describe()"
     ],
     "language": "python",
     "metadata": {},
     "outputs": [
      {
       "output_type": "stream",
       "stream": "stdout",
       "text": [
        "Posts' length in words:\n"
       ]
      },
      {
       "metadata": {},
       "output_type": "pyout",
       "prompt_number": 8,
       "text": [
        "count    82.000000\n",
        "mean      6.902439\n",
        "std       4.542284\n",
        "min       1.000000\n",
        "25%       4.000000\n",
        "50%       6.000000\n",
        "75%       8.000000\n",
        "max      23.000000\n",
        "Name: length_words, dtype: float64"
       ]
      },
      {
       "metadata": {},
       "output_type": "display_data",
       "png": "[encoded data removed]",
       "text": [
        "<matplotlib.figure.Figure at 0x7ff066b573d0>"
       ]
      }
     ],
     "prompt_number": 8
    },
    {
     "cell_type": "markdown",
     "metadata": {},
     "source": [
      "To analyzing text, I tokenize messages, and extract unigram and bigram from them. This function will be handled by the [**scikit-learn**](http://scikit-learn.org/stable/) package. Then I use a python Counter to calculate the tokens frequency.\n",
      "\n",
      "There is no surprise that these words have the highest frequency: **happy**, **birthday**, or **sinh**, **nhat** (in Vietnamese). There are also some ways to shorten these phrases, such as: **hpbd** or **cmsn**.\n",
      "\n",
      "My name **hoan** is in there for 12 times, apparently, some of my friends still call me by my nickname: **snbb** or **bung bu**, that's quite nice.\n",
      "\n",
      "Most of the wishes for me are **vui ve** (which means **happy**), and sure, I will still stay happy, thank you again."
     ]
    },
    {
     "cell_type": "code",
     "collapsed": false,
     "input": [
      "from sklearn.feature_extraction.text import CountVectorizer\n",
      "from collections import Counter\n",
      "\n",
      "vectorizer = CountVectorizer(decode_error='replace', strip_accents='unicode', ngram_range=(1,1))\n",
      "df['unigram'] = df.message.apply(vectorizer.build_analyzer())\n",
      "\n",
      "vectorizer = CountVectorizer(decode_error='replace', strip_accents='unicode', ngram_range=(2,2))\n",
      "df['bigram'] = df.message.apply(vectorizer.build_analyzer())\n",
      "\n",
      "c = Counter()\n",
      "_ = df.unigram.apply(c.update)\n",
      "print 'Top 20 unigram'\n",
      "c.most_common(20)"
     ],
     "language": "python",
     "metadata": {},
     "outputs": [
      {
       "output_type": "stream",
       "stream": "stdout",
       "text": [
        "Top 20 unigram\n"
       ]
      },
      {
       "metadata": {},
       "output_type": "pyout",
       "prompt_number": 24,
       "text": [
        "[(u'happy', 38),\n",
        " (u'birthday', 33),\n",
        " (u'nhat', 30),\n",
        " (u'sinh', 30),\n",
        " (u'chuc', 28),\n",
        " (u'vui', 21),\n",
        " (u've', 17),\n",
        " (u'em', 14),\n",
        " (u'hoan', 12),\n",
        " (u'nhe', 11),\n",
        " (u'nha', 11),\n",
        " (u'anh', 11),\n",
        " (u'mung', 9),\n",
        " (u'to', 8),\n",
        " (u'best', 7),\n",
        " (u'bu', 7),\n",
        " (u'bung', 7),\n",
        " (u'you', 7),\n",
        " (u'hpbd', 6),\n",
        " (u'co', 5)]"
       ]
      }
     ],
     "prompt_number": 24
    },
    {
     "cell_type": "code",
     "collapsed": false,
     "input": [
      "c = Counter()\n",
      "_ = df.bigram.apply(c.update)\n",
      "print 'Top 20 bigram'\n",
      "c.most_common(20)"
     ],
     "language": "python",
     "metadata": {},
     "outputs": [
      {
       "output_type": "stream",
       "stream": "stdout",
       "text": [
        "Top 20 bigram\n"
       ]
      },
      {
       "metadata": {},
       "output_type": "pyout",
       "prompt_number": 25,
       "text": [
        "[(u'happy birthday', 31),\n",
        " (u'sinh nhat', 30),\n",
        " (u'vui ve', 17),\n",
        " (u'nhat vui', 16),\n",
        " (u'chuc mung', 9),\n",
        " (u'mung sinh', 9),\n",
        " (u've nhe', 6),\n",
        " (u'bung bu', 6),\n",
        " (u'birthday hoan', 5),\n",
        " (u'em sinh', 5),\n",
        " (u'to you', 5),\n",
        " (u'chuc em', 5),\n",
        " (u'birthday to', 5),\n",
        " (u'the best', 5),\n",
        " (u'chuc anh', 4),\n",
        " (u'hpbd anh', 3),\n",
        " (u'birthday em', 3),\n",
        " (u'sieu nhan', 3),\n",
        " (u'mau co', 3),\n",
        " (u'nha bung', 3)]"
       ]
      }
     ],
     "prompt_number": 25
    },
    {
     "cell_type": "heading",
     "level": 3,
     "metadata": {},
     "source": [
      "c. Timeseries"
     ]
    },
    {
     "cell_type": "markdown",
     "metadata": {},
     "source": [
      "In a time range of 24 hours, I do a datetime histogram on the data. Since I live in Vietnam with the timezone UTC+7, thus, I plot 2 histograms with different timezone. The plot of UTC+7 shows 2 peaks in before 10pm and before 8pm, my guess is that people check Facebook before going to work, and during dinner :P"
     ]
    },
    {
     "cell_type": "code",
     "collapsed": false,
     "input": [
      "df['hour'] = df.created_time.apply(lambda x: x.hour)\n",
      "df['hour_UTC7'] = df.hour.apply(lambda x: (x + 7)% 24)\n",
      "subplot(1,2,1)\n",
      "_ = df.hour.hist(bins=24)\n",
      "_ = title('UTC +0')\n",
      "subplot(1,2,2)\n",
      "_ = df.hour_UTC7.hist(bins=24)\n",
      "_ = title('UTC +7')"
     ],
     "language": "python",
     "metadata": {},
     "outputs": [
      {
       "metadata": {},
       "output_type": "display_data",
       "png": "[encoded data removed]",
       "text": [
        "<matplotlib.figure.Figure at 0x7ff0674b5310>"
       ]
      }
     ],
     "prompt_number": 14
    }
   ],
   "metadata": {}
  }
 ]
}