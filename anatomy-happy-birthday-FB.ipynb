{
 "metadata": {
  "name": "",
  "signature": "sha256:4bf1704fae5322645f6c7a8c28a632be1dc0388217396b3002166e5745bf8daf"
 },
 "nbformat": 3,
 "nbformat_minor": 0,
 "worksheets": [
  {
   "cells": [
    {
     "cell_type": "heading",
     "level": 1,
     "metadata": {},
     "source": [
      "Anatomy of Happy Birthday posts on Facebook"
     ]
    },
    {
     "cell_type": "markdown",
     "metadata": {},
     "source": [
      "Every year we receives many loving Happy Birthday posts from our family and friends. This year I like to crawl all these posts from Facebook and do some analysis. The language I use is **Python**, together with [**pandas**](http://pandas.pydata.org/) tool."
     ]
    },
    {
     "cell_type": "heading",
     "level": 2,
     "metadata": {},
     "source": [
      "Extracting posts from Facebook"
     ]
    },
    {
     "cell_type": "markdown",
     "metadata": {},
     "source": [
      "In order to extract data from Facebook, I use [**facepy**](http://facepy.readthedocs.org), a library from *Johannes Gorset* as a wrapper for Facebook API. Function `get_post` retrieves posts from Facebook timeline. My code to extract posts can be found [**here**](https://github.com/nguyenhoan1988/face-birthday-likes) "
     ]
    },
    {
     "cell_type": "code",
     "collapsed": false,
     "input": [
      "from datetime import datetime\n",
      "from facebook_HB_posts import get_post\n",
      "\n",
      "# get all posts from this date\n",
      "since_date = datetime(2014,11,10)\n",
      "\n",
      "posts = get_post(since_date)\n",
      "print 'Total posts retrieved: %d' % len(posts)"
     ],
     "language": "python",
     "metadata": {},
     "outputs": [
      {
       "output_type": "stream",
       "stream": "stdout",
       "text": [
        "Processing 16 posts\n",
        "Total posts retrieved: 1\n"
       ]
      }
     ],
     "prompt_number": 3
    },
    {
     "cell_type": "heading",
     "level": 2,
     "metadata": {},
     "source": [
      "Cleaning posts"
     ]
    },
    {
     "cell_type": "markdown",
     "metadata": {},
     "source": [
      "First, I convert the list of posts to a DataFrame, then filter only posts that come from other users other than me."
     ]
    },
    {
     "cell_type": "code",
     "collapsed": false,
     "input": [
      "import pandas as pd\n",
      "\n",
      "# convert to pandas DataFrame format\n",
      "df = pd.DataFrame(posts)\n",
      "df.info()"
     ],
     "language": "python",
     "metadata": {},
     "outputs": [
      {
       "output_type": "stream",
       "stream": "stdout",
       "text": [
        "<class 'pandas.core.frame.DataFrame'>\n",
        "Int64Index: 1 entries, 0 to 0\n",
        "Data columns (total 20 columns):\n",
        "actions         1 non-null object\n",
        "application     1 non-null object\n",
        "comments        1 non-null object\n",
        "created_time    1 non-null datetime64[ns]\n",
        "from            1 non-null object\n",
        "icon            1 non-null object\n",
        "id              1 non-null object\n",
        "likes           1 non-null object\n",
        "link            1 non-null object\n",
        "message         1 non-null object\n",
        "object_id       1 non-null object\n",
        "picture         1 non-null object\n",
        "privacy         1 non-null object\n",
        "status_type     1 non-null object\n",
        "to              1 non-null object\n",
        "type            1 non-null object\n",
        "updated_time    1 non-null object\n",
        "user_id         1 non-null object\n",
        "user_name       1 non-null object\n",
        "with_tags       1 non-null object\n",
        "dtypes: datetime64[ns](1), object(19)"
       ]
      }
     ],
     "prompt_number": 2
    },
    {
     "cell_type": "code",
     "collapsed": false,
     "input": [
      "df = df[df.user_name != 'Hoan Nguyen']"
     ],
     "language": "python",
     "metadata": {},
     "outputs": []
    }
   ],
   "metadata": {}
  }
 ]
}